{
 "cells": [
  {
   "cell_type": "code",
   "execution_count": 1,
   "metadata": {
    "collapsed": true
   },
   "outputs": [],
   "source": [
    "#!/usr/bin/env python\n",
    "# -*- coding: utf-8 -*-\n",
    "\n",
    "import numpy as np\n",
    "import matplotlib.pyplot as plt\n",
    "\n",
    "import pywt\n",
    "import pywt.data"
   ]
  },
  {
   "cell_type": "code",
   "execution_count": 2,
   "metadata": {
    "collapsed": true
   },
   "outputs": [],
   "source": [
    "import subprocess, os, sys\n",
    "import numpy as np\n",
    "import nibabel as nib\n",
    "from scipy import ndimage"
   ]
  },
  {
   "cell_type": "code",
   "execution_count": 3,
   "metadata": {
    "collapsed": true
   },
   "outputs": [],
   "source": [
    "img_ct = '../Test/1/CT_PET_Slices'\n",
    "img_pt = '../Test/1/PET_Attenuation_Correction_Recon'\n",
    "roi_fln = img_pt"
   ]
  },
  {
   "cell_type": "code",
   "execution_count": 4,
   "metadata": {
    "collapsed": false
   },
   "outputs": [
    {
     "name": "stdout",
     "output_type": "stream",
     "text": [
      "INFO: Cannot find the ROI image in NII.GZ. Trying to load the .NII instead.\n"
     ]
    }
   ],
   "source": [
    "try:\n",
    "    roi_img = nib.load(roi_fln + '.nii.gz')\n",
    "except Exception, e:\n",
    "    print 'INFO: Cannot find the ROI image in NII.GZ. Trying to load the .NII instead.'\n",
    "    roi_img = nib.load(roi_fln + '.nii')\n",
    "roi_dat = roi_img.get_data()\n",
    "roi_aff = roi_img.affine\n",
    "roi_hdr = roi_img.header"
   ]
  },
  {
   "cell_type": "code",
   "execution_count": 5,
   "metadata": {
    "collapsed": false
   },
   "outputs": [
    {
     "data": {
      "text/plain": [
       "(512, 512, 171)"
      ]
     },
     "execution_count": 5,
     "metadata": {},
     "output_type": "execute_result"
    }
   ],
   "source": [
    "roi_dat.shape"
   ]
  },
  {
   "cell_type": "code",
   "execution_count": 6,
   "metadata": {
    "collapsed": false
   },
   "outputs": [
    {
     "name": "stdout",
     "output_type": "stream",
     "text": [
      "(1024, 1024, 342)\n"
     ]
    }
   ],
   "source": [
    "original = ndimage.interpolation.zoom(roi_dat, zoom = 2)\n",
    "print(original.shape)"
   ]
  },
  {
   "cell_type": "code",
   "execution_count": 7,
   "metadata": {
    "collapsed": true
   },
   "outputs": [],
   "source": [
    "coeffsn = pywt.dwtn(original, 'bior1.3')"
   ]
  },
  {
   "cell_type": "code",
   "execution_count": 8,
   "metadata": {
    "collapsed": false
   },
   "outputs": [
    {
     "name": "stdout",
     "output_type": "stream",
     "text": [
      "514 514 173\n"
     ]
    }
   ],
   "source": [
    "dx, dy, dz = coeffsn['dad'].shape\n",
    "print dx, dy, dz"
   ]
  },
  {
   "cell_type": "code",
   "execution_count": 9,
   "metadata": {
    "collapsed": false
   },
   "outputs": [],
   "source": [
    "opt_dat = np.zeros_like(roi_dat)\n",
    "opt_fln = roi_fln + '_texture.nii.gz'\n",
    "\n",
    "fig = plt.figure()\n",
    "for i, key in enumerate(coeffsn.keys()):\n",
    "    ax = fig.add_subplot(3, 3, i + 1)\n",
    "    tmp_dat = coeffsn[key][1:dx-1,1:dy-1,1:dz-1]    \n",
    "    ax.imshow(tmp_dat[:,:,100], origin='image', interpolation=\"nearest\",\n",
    "              cmap=plt.cm.gray)\n",
    "    ax.set_title(key, fontsize=12)\n",
    "    if key != 'aaa':\n",
    "        opt_dat = opt_dat + np.abs(tmp_dat)\n",
    "        \n",
    "fig.suptitle(\"dwtn coefficients\", fontsize=14)\n",
    "plt.show()\n",
    "texture = opt_dat / 7."
   ]
  },
  {
   "cell_type": "code",
   "execution_count": 10,
   "metadata": {
    "collapsed": false
   },
   "outputs": [],
   "source": [
    "reconstructed = pywt.idwtn(coeffsn, 'bior1.3')\n"
   ]
  },
  {
   "cell_type": "code",
   "execution_count": 11,
   "metadata": {
    "collapsed": true
   },
   "outputs": [],
   "source": [
    "ax = plt.subplot(1, 3, 1)\n",
    "ax.imshow(original[:,:,105], interpolation=\"nearest\", cmap=plt.cm.gray)\n",
    "    \n",
    "ax = plt.subplot(1, 3, 2)\n",
    "ax.imshow(reconstructed[:,:,100], interpolation=\"nearest\", cmap=plt.cm.gray)\n",
    "\n",
    "\n",
    "ax = plt.subplot(1, 3, 3)\n",
    "ax.imshow(texture[:,:,100], interpolation=\"nearest\", cmap=plt.cm.gray)\n",
    "    \n",
    "plt.tight_layout()\n",
    "plt.show()"
   ]
  },
  {
   "cell_type": "code",
   "execution_count": 12,
   "metadata": {
    "collapsed": true
   },
   "outputs": [],
   "source": [
    "opt_img = nib.Nifti1Image(opt_dat, roi_aff, header = roi_hdr)\n",
    "nib.save(opt_img, opt_fln)"
   ]
  },
  {
   "cell_type": "code",
   "execution_count": null,
   "metadata": {
    "collapsed": true
   },
   "outputs": [],
   "source": []
  }
 ],
 "metadata": {
  "kernelspec": {
   "display_name": "Python 2",
   "language": "python",
   "name": "python2"
  },
  "language_info": {
   "codemirror_mode": {
    "name": "ipython",
    "version": 2
   },
   "file_extension": ".py",
   "mimetype": "text/x-python",
   "name": "python",
   "nbconvert_exporter": "python",
   "pygments_lexer": "ipython2",
   "version": "2.7.11"
  }
 },
 "nbformat": 4,
 "nbformat_minor": 0
}
