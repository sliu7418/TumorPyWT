{
 "cells": [
  {
   "cell_type": "code",
   "execution_count": 1,
   "metadata": {
    "collapsed": true
   },
   "outputs": [
    {
     "data": {
      "text/plain": [
       "'\\nWavelet Image Blender.\\n\\nBlend image A with texture extracted from image B by selecting\\ndetail coefficients:\\n\\n    -----------------     -----------------\\n    |               |     |               |\\n    |               |     |               |\\n    |               |     |               |\\n    |       A       |     |       B       |\\n    |               |     |               |\\n    |               |     |               |\\n    |               |     |               |\\n    -----------------     -----------------\\n\\n            |                     |\\n     2D DWT |              2D DWT |\\n            V                     V\\n\\n    -----------------             ---------          -----------------\\n    |       |       |             |       |          |               |\\n    | A(LL) | H(LH) |             | H(LH) |          |               |\\n    |       |       |             |       |   IDWT   |               |\\n    -----------------  +  -----------------  ----->  |       C       |\\n    |       |       |     |       |       |          |               |\\n    | V(HL) | D(HH) |     | V(HL) | D(HH) |          |               |\\n    |       |       |     |       |       |          |               |\\n    -----------------     -----------------          -----------------\\n                            (details only)\\n'"
      ]
     },
     "execution_count": 1,
     "metadata": {},
     "output_type": "execute_result"
    }
   ],
   "source": [
    "#!/usr/bin/env python\n",
    "\n",
    "# Copyright (c) 2006-2012 Filip Wasilewski <http://en.ig.ma/>\n",
    "# Copyright (c) 2012-2016 The PyWavelets Developers\n",
    "#                         <https://github.com/PyWavelets/pywt>\n",
    "# See COPYING for license details.\n",
    "\n",
    "\"\"\"\n",
    "Wavelet Image Blender.\n",
    "\n",
    "Blend image A with texture extracted from image B by selecting\n",
    "detail coefficients:\n",
    "\n",
    "    -----------------     -----------------\n",
    "    |               |     |               |\n",
    "    |               |     |               |\n",
    "    |               |     |               |\n",
    "    |       A       |     |       B       |\n",
    "    |               |     |               |\n",
    "    |               |     |               |\n",
    "    |               |     |               |\n",
    "    -----------------     -----------------\n",
    "\n",
    "            |                     |\n",
    "     2D DWT |              2D DWT |\n",
    "            V                     V\n",
    "\n",
    "    -----------------             ---------          -----------------\n",
    "    |       |       |             |       |          |               |\n",
    "    | A(LL) | H(LH) |             | H(LH) |          |               |\n",
    "    |       |       |             |       |   IDWT   |               |\n",
    "    -----------------  +  -----------------  ----->  |       C       |\n",
    "    |       |       |     |       |       |          |               |\n",
    "    | V(HL) | D(HH) |     | V(HL) | D(HH) |          |               |\n",
    "    |       |       |     |       |       |          |               |\n",
    "    -----------------     -----------------          -----------------\n",
    "                            (details only)\n",
    "\"\"\""
   ]
  },
  {
   "cell_type": "code",
   "execution_count": 1,
   "metadata": {
    "collapsed": true
   },
   "outputs": [],
   "source": [
    "import optparse\n",
    "import os\n",
    "import sys\n",
    "from time import time as clock  # noqa\n",
    "import numpy  # http://www.scipy.org\n",
    "import pywt\n",
    "\n",
    "import subprocess, os, sys\n",
    "import numpy as np\n",
    "import nibabel as nib\n",
    "from scipy import ndimage"
   ]
  },
  {
   "cell_type": "code",
   "execution_count": 61,
   "metadata": {
    "collapsed": false
   },
   "outputs": [
    {
     "name": "stdout",
     "output_type": "stream",
     "text": [
      "INFO: Cannot find the ROI image in NII.GZ. Trying to load the .NII instead.\n",
      "INFO: Cannot find the ROI image in NII.GZ. Trying to load the .NII instead.\n"
     ]
    }
   ],
   "source": [
    "base_fln = '../Test/1/CT_PET_Slices'\n",
    "txur_fln = '../Test/1/PET_Attenuation_Correction_Recon'\n",
    "blen_fln = base_fln + '_blender'\n",
    "\n",
    "wavelet = 'bior1.3'\n",
    "level = 4\n",
    "mode='smooth'\n",
    "base_gain=None\n",
    "texture_gain=None\n",
    "\n",
    "\n",
    "base_img = load_image(base_fln)\n",
    "base_dat = base_img.get_data()\n",
    "base_aff = base_img.affine\n",
    "base_hdr = base_img.header\n",
    "\n",
    "txur_img = load_image(txur_fln)\n",
    "txur_dat = txur_img.get_data()\n",
    "txur_aff = txur_img.affine\n",
    "txur_hdr = txur_img.header  "
   ]
  },
  {
   "cell_type": "code",
   "execution_count": 62,
   "metadata": {
    "collapsed": false
   },
   "outputs": [
    {
     "name": "stdout",
     "output_type": "stream",
     "text": [
      "(128, 128, 171)\n",
      "(128, 128, 171)\n"
     ]
    }
   ],
   "source": [
    "base_dat = ndimage.interpolation.zoom(base_dat, zoom = (.25, .25, 1))\n",
    "print base_dat.shape\n",
    "print txur_dat.shape"
   ]
  },
  {
   "cell_type": "code",
   "execution_count": 63,
   "metadata": {
    "collapsed": false
   },
   "outputs": [
    {
     "name": "stdout",
     "output_type": "stream",
     "text": [
      "(171, 128, 128)\n",
      "(171, 128, 128)\n"
     ]
    }
   ],
   "source": [
    "base_dat = numpy.swapaxes(base_dat, 0, 2)\n",
    "txur_dat = numpy.swapaxes(txur_dat, 0, 2)\n",
    "print base_dat.shape\n",
    "print txur_dat.shape"
   ]
  },
  {
   "cell_type": "code",
   "execution_count": 56,
   "metadata": {
    "collapsed": true
   },
   "outputs": [],
   "source": [
    "def load_image(roi_fln):\n",
    "    \n",
    "    try:\n",
    "        roi_img = nib.load(roi_fln + '.nii.gz')\n",
    "    except Exception, e:\n",
    "        print 'INFO: Cannot find the ROI image in NII.GZ. Trying to load the .NII instead.'\n",
    "        roi_img = nib.load(roi_fln + '.nii')\n",
    "    \n",
    "    return roi_img"
   ]
  },
  {
   "cell_type": "code",
   "execution_count": 64,
   "metadata": {
    "collapsed": true
   },
   "outputs": [],
   "source": [
    "def blend_images(base_data, texture_data, wavelet, level, mode='smooth', base_gain=None,\n",
    "                 texture_gain=None):\n",
    "    \"\"\"Blend loaded images at `level` of granularity using `wavelet`\"\"\"\n",
    "\n",
    "    output_data = []\n",
    "\n",
    "    # process color bands\n",
    "    for base_band, texture_band in zip(base_data, texture_data):\n",
    "\n",
    "        # multilevel dwt\n",
    "        base_band_coeffs = pywt.wavedec2(base_band, wavelet, mode, level)\n",
    "        texture_band_coeffs = pywt.wavedec2(texture_band, wavelet, mode, level)\n",
    "        \n",
    "#         print base_band_coeffs.keys()\n",
    "#         print texture_band_coeffs.keys()\n",
    "\n",
    "        # average coefficients of base image\n",
    "        output_band_coeffs = [base_band_coeffs[0]]  # cA\n",
    "        del base_band_coeffs[0], texture_band_coeffs[0]\n",
    "\n",
    "        # blend details coefficients\n",
    "        for n, (base_band_details, texture_band_details) in enumerate(\n",
    "                zip(base_band_coeffs, texture_band_coeffs)):\n",
    "            blended_details = []\n",
    "            for (base_detail, texture_detail) in zip(base_band_details,\n",
    "                                                     texture_band_details):\n",
    "                if base_gain is not None:\n",
    "                    base_detail *= base_gain\n",
    "                if texture_gain is not None:\n",
    "                    texture_detail *= texture_gain\n",
    "\n",
    "                # select coeffs with greater energy\n",
    "                blended = numpy.where(abs(base_detail) > abs(texture_detail),\n",
    "                                      base_detail, texture_detail)\n",
    "                blended_details.append(blended)\n",
    "\n",
    "            base_band_coeffs[n] = texture_band_coeffs[n] = None\n",
    "            output_band_coeffs.append(blended_details)\n",
    "\n",
    "        # multilevel idwt\n",
    "        new_band = pywt.waverec2(output_band_coeffs, wavelet, mode)\n",
    "        output_data.append(new_band)\n",
    "        del new_band, base_band_coeffs, texture_band_coeffs\n",
    "\n",
    "    del base_data, texture_data\n",
    "\n",
    "    return numpy.array(output_data)\n"
   ]
  },
  {
   "cell_type": "code",
   "execution_count": 65,
   "metadata": {
    "collapsed": false
   },
   "outputs": [
    {
     "name": "stdout",
     "output_type": "stream",
     "text": [
      "(128, 128)\n",
      "(128, 128)\n",
      "(128, 128)\n",
      "(128, 128)\n",
      "(128, 128)\n",
      "(128, 128)\n",
      "(128, 128)\n",
      "(128, 128)\n",
      "(128, 128)\n",
      "(128, 128)\n",
      "(128, 128)\n",
      "(128, 128)\n",
      "(128, 128)\n",
      "(128, 128)\n",
      "(128, 128)\n",
      "(128, 128)\n",
      "(128, 128)\n",
      "(128, 128)\n",
      "(128, 128)\n",
      "(128, 128)\n",
      "(128, 128)\n",
      "(128, 128)\n",
      "(128, 128)\n",
      "(128, 128)\n",
      "(128, 128)\n",
      "(128, 128)\n",
      "(128, 128)\n",
      "(128, 128)\n",
      "(128, 128)\n",
      "(128, 128)\n",
      "(128, 128)\n",
      "(128, 128)\n",
      "(128, 128)\n",
      "(128, 128)\n",
      "(128, 128)\n",
      "(128, 128)\n",
      "(128, 128)\n",
      "(128, 128)\n",
      "(128, 128)\n",
      "(128, 128)\n",
      "(128, 128)\n",
      "(128, 128)\n",
      "(128, 128)\n",
      "(128, 128)\n",
      "(128, 128)\n",
      "(128, 128)\n",
      "(128, 128)\n",
      "(128, 128)\n",
      "(128, 128)\n",
      "(128, 128)\n",
      "(128, 128)\n",
      "(128, 128)\n",
      "(128, 128)\n",
      "(128, 128)\n",
      "(128, 128)\n",
      "(128, 128)\n",
      "(128, 128)\n",
      "(128, 128)\n",
      "(128, 128)\n",
      "(128, 128)\n",
      "(128, 128)\n",
      "(128, 128)\n",
      "(128, 128)\n",
      "(128, 128)\n",
      "(128, 128)\n",
      "(128, 128)\n",
      "(128, 128)\n",
      "(128, 128)\n",
      "(128, 128)\n",
      "(128, 128)\n",
      "(128, 128)\n",
      "(128, 128)\n",
      "(128, 128)\n",
      "(128, 128)\n",
      "(128, 128)\n",
      "(128, 128)\n",
      "(128, 128)\n",
      "(128, 128)\n",
      "(128, 128)\n",
      "(128, 128)\n",
      "(128, 128)\n",
      "(128, 128)\n",
      "(128, 128)\n",
      "(128, 128)\n",
      "(128, 128)\n",
      "(128, 128)\n",
      "(128, 128)\n",
      "(128, 128)\n",
      "(128, 128)\n",
      "(128, 128)\n",
      "(128, 128)\n",
      "(128, 128)\n",
      "(128, 128)\n",
      "(128, 128)\n",
      "(128, 128)\n",
      "(128, 128)\n",
      "(128, 128)\n",
      "(128, 128)\n",
      "(128, 128)\n",
      "(128, 128)\n",
      "(128, 128)\n",
      "(128, 128)\n",
      "(128, 128)\n",
      "(128, 128)\n",
      "(128, 128)\n",
      "(128, 128)\n",
      "(128, 128)\n",
      "(128, 128)\n",
      "(128, 128)\n",
      "(128, 128)\n",
      "(128, 128)\n",
      "(128, 128)\n",
      "(128, 128)\n",
      "(128, 128)\n",
      "(128, 128)\n",
      "(128, 128)\n",
      "(128, 128)\n",
      "(128, 128)\n",
      "(128, 128)\n",
      "(128, 128)\n",
      "(128, 128)\n",
      "(128, 128)\n",
      "(128, 128)\n",
      "(128, 128)\n",
      "(128, 128)\n",
      "(128, 128)\n",
      "(128, 128)\n",
      "(128, 128)\n",
      "(128, 128)\n",
      "(128, 128)\n",
      "(128, 128)\n",
      "(128, 128)\n",
      "(128, 128)\n",
      "(128, 128)\n",
      "(128, 128)\n",
      "(128, 128)\n",
      "(128, 128)\n",
      "(128, 128)\n",
      "(128, 128)\n",
      "(128, 128)\n",
      "(128, 128)\n",
      "(128, 128)\n",
      "(128, 128)\n",
      "(128, 128)\n",
      "(128, 128)\n",
      "(128, 128)\n",
      "(128, 128)\n",
      "(128, 128)\n",
      "(128, 128)\n",
      "(128, 128)\n",
      "(128, 128)\n",
      "(128, 128)\n",
      "(128, 128)\n",
      "(128, 128)\n",
      "(128, 128)\n",
      "(128, 128)\n",
      "(128, 128)\n",
      "(128, 128)\n",
      "(128, 128)\n",
      "(128, 128)\n",
      "(128, 128)\n",
      "(128, 128)\n",
      "(128, 128)\n",
      "(128, 128)\n",
      "(128, 128)\n",
      "(128, 128)\n",
      "(128, 128)\n",
      "(128, 128)\n",
      "(128, 128)\n",
      "(128, 128)\n",
      "(128, 128)\n",
      "0.329s\n"
     ]
    }
   ],
   "source": [
    "# Start \n",
    "t = clock()\n",
    "\n",
    "blen_dat = blend_images(base_dat, txur_dat, wavelet, level)\n",
    "# blen_dat = blend_images(txur_dat, base_dat, wavelet, level)\n",
    "\n",
    "\n",
    "# End\n",
    "print(\"%.3fs\" % (clock() - t))\n",
    "\n",
    "# Save Results\n",
    "blen_dat = numpy.swapaxes(blen_dat, 0, 2)\n",
    "blen_img = nib.Nifti1Image(blen_dat, txur_aff, header = txur_hdr)\n",
    "nib.save(blen_img, blen_fln)"
   ]
  },
  {
   "cell_type": "code",
   "execution_count": null,
   "metadata": {
    "collapsed": true
   },
   "outputs": [],
   "source": []
  }
 ],
 "metadata": {
  "kernelspec": {
   "display_name": "Python 2",
   "language": "python",
   "name": "python2"
  },
  "language_info": {
   "codemirror_mode": {
    "name": "ipython",
    "version": 2
   },
   "file_extension": ".py",
   "mimetype": "text/x-python",
   "name": "python",
   "nbconvert_exporter": "python",
   "pygments_lexer": "ipython2",
   "version": "2.7.11"
  }
 },
 "nbformat": 4,
 "nbformat_minor": 0
}
